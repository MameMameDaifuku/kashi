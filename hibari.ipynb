{
 "cells": [
  {
   "cell_type": "code",
   "execution_count": null,
   "metadata": {},
   "outputs": [],
   "source": [
    "from janome.tokenizer import Tokenizer\n",
    "from wordcloud import WordCloud\n",
    "import re\n",
    "import requests\n",
    "from bs4 import BeautifulSoup"
   ]
  },
  {
   "cell_type": "code",
   "execution_count": 57,
   "metadata": {},
   "outputs": [],
   "source": [
    "base_url = \"https://www.uta-net.com\"\n",
    "target_url = 'https://www.uta-net.com/search/?Aselect=1&Bselect=4&Keyword=%E7%BE%8E%E7%A9%BA%E3%81%B2%E3%81%B0%E3%82%8A&sort=4'\n",
    "music_num = 200\n",
    "\n",
    "r = requests.get(target_url)\n",
    "\n",
    "soup = BeautifulSoup(r.text, \"html.parser\")\n",
    "url_list = []\n",
    "#曲一覧から各曲のURLを取り出してリストに入れる\n",
    "for i in range(music_num):\n",
    "   href = soup.find_all(\"td\", attrs={\"class\": \"side td1\"})[i].contents[0].get(\"href\")\n",
    "   url_list.append(href)         \n",
    "\n",
    "kashi = \"\"\n",
    "#曲ごとにRequestを送り歌詞を抽出する\n",
    "for i in range(music_num):\n",
    "   target_url = base_url + url_list[i]\n",
    "   r = requests.get(target_url)\n",
    "   soup = BeautifulSoup(r.text, \"html.parser\")\n",
    "\n",
    "   for string in soup.find_all(\"div\", attrs={\"id\": \"kashi_area\"})[0].strings:\n",
    "       kashi += string\n",
    "\n",
    "with open('./kashi_txt/hibari_kashi_200', mode = 'w', encoding = 'utf-8') as fw:\n",
    "   fw.write(kashi)"
   ]
  },
  {
   "cell_type": "code",
   "execution_count": 58,
   "metadata": {},
   "outputs": [],
   "source": [
    "# 英数字の削除\n",
    "kashi = re.sub(\"[a-xA-Z0-9_]\",\"\",kashi)\n",
    "# 記号の削除\n",
    "kashi = re.sub(\"[!-/:-@[-`{-~]\",\"\",kashi)\n",
    "# 空白・改行の削除\n",
    "kashi = re.sub(u'\\n\\n', '\\n', kashi)\n",
    "kashi = re.sub(u'\\r', '', kashi)"
   ]
  },
  {
   "cell_type": "code",
   "execution_count": 59,
   "metadata": {},
   "outputs": [],
   "source": [
    "def tokenize(text):\n",
    "    t = Tokenizer()\n",
    "    tokens = t.tokenize(text)\n",
    "    word = []\n",
    "    stop_word = create_stop_word()\n",
    "    for token in tokens:\n",
    "        part_of_speech = token.part_of_speech.split(\",\")[0]\n",
    "        if part_of_speech == \"名詞\":\n",
    "            if not token.surface in stop_word:\n",
    "                word.append(token.surface)        \n",
    "        if part_of_speech == \"動詞\":\n",
    "            if not token.base_form in stop_word:\n",
    "                word.append(token.base_form)\n",
    "        if part_of_speech == \"形容詞\":\n",
    "            if not token.base_form in stop_word:\n",
    "                word.append(token.base_form)        \n",
    "        if part_of_speech == \"形容動詞\":        \n",
    "            if not token.base_form in stop_word:\n",
    "                word.append(token.base_form)\n",
    "\n",
    "    return word"
   ]
  },
  {
   "cell_type": "code",
   "execution_count": 60,
   "metadata": {},
   "outputs": [],
   "source": [
    "def create_stop_word():\n",
    "    target_url = 'http://svn.sourceforge.jp/svnroot/slothlib/CSharp/Version1/SlothLib/NLP/Filter/StopWord/word/Japanese.txt'\n",
    "    r =requests.get(target_url)\n",
    "    soup=BeautifulSoup(r.text, \"html.parser\")\n",
    "    stop_word=str(soup).split()\n",
    "    \n",
    "    return stop_word"
   ]
  },
  {
   "cell_type": "code",
   "execution_count": 61,
   "metadata": {},
   "outputs": [
    {
     "name": "stdout",
     "output_type": "stream",
     "text": [
      "[('死ぬ', 0.9719272255897522), ('うれしい', 0.9682350158691406), ('ない', 0.9639120697975159), ('いのち', 0.9611829519271851), ('僕', 0.9546191692352295), ('あいつ', 0.9545842409133911), ('する', 0.9526689052581787), ('この世', 0.9476727843284607), ('わかる', 0.9469277858734131), ('苦しい', 0.9456108212471008)]\n"
     ]
    }
   ],
   "source": [
    "sentence = [tokenize(kashi)]\n",
    "model = word2vec.Word2Vec(sentence, size=200, min_count=4, window=4, iter=50)\n",
    "print(model.wv.most_similar(positive=[u\"人生\"], topn=10))"
   ]
  },
  {
   "cell_type": "code",
   "execution_count": null,
   "metadata": {},
   "outputs": [],
   "source": []
  }
 ],
 "metadata": {
  "kernelspec": {
   "display_name": "Python 3",
   "language": "python",
   "name": "python3"
  },
  "language_info": {
   "codemirror_mode": {
    "name": "ipython",
    "version": 3
   },
   "file_extension": ".py",
   "mimetype": "text/x-python",
   "name": "python",
   "nbconvert_exporter": "python",
   "pygments_lexer": "ipython3",
   "version": "3.8.6"
  }
 },
 "nbformat": 4,
 "nbformat_minor": 4
}
